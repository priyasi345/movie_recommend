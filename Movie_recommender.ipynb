{
  "nbformat": 4,
  "nbformat_minor": 0,
  "metadata": {
    "colab": {
      "name": "Untitled223.ipynb",
      "provenance": [],
      "collapsed_sections": [],
      "authorship_tag": "ABX9TyOry64Pp2vT1nYzQ25nsZrQ",
      "include_colab_link": true
    },
    "kernelspec": {
      "name": "python3",
      "display_name": "Python 3"
    }
  },
  "cells": [
    {
      "cell_type": "markdown",
      "metadata": {
        "id": "view-in-github",
        "colab_type": "text"
      },
      "source": [
        "<a href=\"https://colab.research.google.com/github/priyasi345/movie_recommend/blob/master/Movie_recommender.ipynb\" target=\"_parent\"><img src=\"https://colab.research.google.com/assets/colab-badge.svg\" alt=\"Open In Colab\"/></a>"
      ]
    },
    {
      "cell_type": "code",
      "metadata": {
        "id": "yvMlx-lR_fBB",
        "colab_type": "code",
        "colab": {}
      },
      "source": [
        "import requests\n",
        "import pandas as pd"
      ],
      "execution_count": 0,
      "outputs": []
    },
    {
      "cell_type": "code",
      "metadata": {
        "id": "P1iKm0p5_mb2",
        "colab_type": "code",
        "colab": {}
      },
      "source": [
        "data=requests.get('https://api.themoviedb.org/3/movie/popular?api_key=696e77483387d3f56b624d79590961b3&language=en-US&page=2').json()"
      ],
      "execution_count": 0,
      "outputs": []
    },
    {
      "cell_type": "code",
      "metadata": {
        "id": "hnUapRdAAPAD",
        "colab_type": "code",
        "outputId": "8da9c47c-ba49-4ac9-fbd0-35466fcc145b",
        "colab": {
          "base_uri": "https://localhost:8080/",
          "height": 1000
        }
      },
      "source": [
        "data"
      ],
      "execution_count": 45,
      "outputs": [
        {
          "output_type": "execute_result",
          "data": {
            "text/plain": [
              "{'page': 2,\n",
              " 'results': [{'adult': False,\n",
              "   'backdrop_path': '/1EGFjibWzsN2GNNeOSQBYhQ9pK5.jpg',\n",
              "   'genre_ids': [28, 35, 10749],\n",
              "   'id': 576156,\n",
              "   'original_language': 'en',\n",
              "   'original_title': 'The Lovebirds',\n",
              "   'overview': 'A couple experiences a defining moment in their relationship when they are unintentionally embroiled in a murder mystery. As their journey to clear their names takes them from one extreme – and hilarious - circumstance to the next, they must figure out how they, and their relationship, can survive the night.',\n",
              "   'popularity': 61.664,\n",
              "   'poster_path': '/5jdLnvALCpK1NkeQU1z4YvOe2dZ.jpg',\n",
              "   'release_date': '2020-05-22',\n",
              "   'title': 'The Lovebirds',\n",
              "   'video': False,\n",
              "   'vote_average': 6.4,\n",
              "   'vote_count': 182},\n",
              "  {'adult': False,\n",
              "   'backdrop_path': '/jOzrELAzFxtMx2I4uDGHOotdfsS.jpg',\n",
              "   'genre_ids': [28, 12, 878],\n",
              "   'id': 181812,\n",
              "   'original_language': 'en',\n",
              "   'original_title': 'Star Wars: The Rise of Skywalker',\n",
              "   'overview': 'The surviving Resistance faces the First Order once again as the journey of Rey, Finn and Poe Dameron continues. With the power and knowledge of generations behind them, the final battle begins.',\n",
              "   'popularity': 62.784,\n",
              "   'poster_path': '/db32LaOibwEliAmSL2jjDF6oDdj.jpg',\n",
              "   'release_date': '2019-12-18',\n",
              "   'title': 'Star Wars: The Rise of Skywalker',\n",
              "   'video': False,\n",
              "   'vote_average': 6.5,\n",
              "   'vote_count': 4788},\n",
              "  {'adult': False,\n",
              "   'backdrop_path': '/tintsaQ0WLzZsTMkTiqtMB3rfc8.jpg',\n",
              "   'genre_ids': [28, 35, 80],\n",
              "   'id': 522627,\n",
              "   'original_language': 'en',\n",
              "   'original_title': 'The Gentlemen',\n",
              "   'overview': 'American expat Mickey Pearson has built a highly profitable marijuana empire in London. When word gets out that he’s looking to cash out of the business forever it triggers plots, schemes, bribery and blackmail in an attempt to steal his domain out from under him.',\n",
              "   'popularity': 86.075,\n",
              "   'poster_path': '/jtrhTYB7xSrJxR1vusu99nvnZ1g.jpg',\n",
              "   'release_date': '2020-01-01',\n",
              "   'title': 'The Gentlemen',\n",
              "   'video': False,\n",
              "   'vote_average': 7.7,\n",
              "   'vote_count': 1319},\n",
              "  {'adult': False,\n",
              "   'backdrop_path': '/xJWPZIYOEFIjZpBL7SVBGnzRYXp.jpg',\n",
              "   'genre_ids': [12, 16, 10751],\n",
              "   'id': 330457,\n",
              "   'original_language': 'en',\n",
              "   'original_title': 'Frozen II',\n",
              "   'overview': 'Elsa, Anna, Kristoff and Olaf head far into the forest to learn the truth about an ancient mystery of their kingdom.',\n",
              "   'popularity': 61.31,\n",
              "   'poster_path': '/pjeMs3yqRmFL3giJy4PMXWZTTPa.jpg',\n",
              "   'release_date': '2019-11-20',\n",
              "   'title': 'Frozen II',\n",
              "   'video': False,\n",
              "   'vote_average': 7.2,\n",
              "   'vote_count': 4748},\n",
              "  {'adult': False,\n",
              "   'backdrop_path': '/xFxk4vnirOtUxpOEWgA1MCRfy6J.jpg',\n",
              "   'genre_ids': [12, 16, 35, 14, 10751],\n",
              "   'id': 508439,\n",
              "   'original_language': 'en',\n",
              "   'original_title': 'Onward',\n",
              "   'overview': 'In a suburban fantasy world, two teenage elf brothers embark on an extraordinary quest to discover if there is still a little magic left out there.',\n",
              "   'popularity': 76.681,\n",
              "   'poster_path': '/f4aul3FyD3jv3v4bul1IrkWZvzq.jpg',\n",
              "   'release_date': '2020-02-29',\n",
              "   'title': 'Onward',\n",
              "   'video': False,\n",
              "   'vote_average': 7.9,\n",
              "   'vote_count': 2046},\n",
              "  {'adult': False,\n",
              "   'backdrop_path': '/9mmkq59uRuJWDFz9UHeX5ATNJYf.jpg',\n",
              "   'genre_ids': [12, 18, 878],\n",
              "   'id': 157336,\n",
              "   'original_language': 'en',\n",
              "   'original_title': 'Interstellar',\n",
              "   'overview': 'Interstellar chronicles the adventures of a group of explorers who make use of a newly discovered wormhole to surpass the limitations on human space travel and conquer the vast distances involved in an interstellar voyage.',\n",
              "   'popularity': 59.559,\n",
              "   'poster_path': '/gEU2QniE6E77NI6lCU6MxlNBvIx.jpg',\n",
              "   'release_date': '2014-11-05',\n",
              "   'title': 'Interstellar',\n",
              "   'video': False,\n",
              "   'vote_average': 8.3,\n",
              "   'vote_count': 22562},\n",
              "  {'adult': False,\n",
              "   'backdrop_path': '/lmZFxXgJE3vgrciwuDib0N8CfQo.jpg',\n",
              "   'genre_ids': [28, 12, 878],\n",
              "   'id': 299536,\n",
              "   'original_language': 'en',\n",
              "   'original_title': 'Avengers: Infinity War',\n",
              "   'overview': 'As the Avengers and their allies have continued to protect the world from threats too large for any one hero to handle, a new danger has emerged from the cosmic shadows: Thanos. A despot of intergalactic infamy, his goal is to collect all six Infinity Stones, artifacts of unimaginable power, and use them to inflict his twisted will on all of reality. Everything the Avengers have fought for has led up to this moment - the fate of Earth and existence itself has never been more uncertain.',\n",
              "   'popularity': 65.235,\n",
              "   'poster_path': '/7WsyChQLEftFiDOVTGkv3hFpyyt.jpg',\n",
              "   'release_date': '2018-04-25',\n",
              "   'title': 'Avengers: Infinity War',\n",
              "   'video': False,\n",
              "   'vote_average': 8.3,\n",
              "   'vote_count': 18351},\n",
              "  {'adult': False,\n",
              "   'backdrop_path': '/hziiv14OpD73u9gAak4XDDfBKa2.jpg',\n",
              "   'genre_ids': [12, 14, 10751],\n",
              "   'id': 671,\n",
              "   'original_language': 'en',\n",
              "   'original_title': \"Harry Potter and the Philosopher's Stone\",\n",
              "   'overview': \"Harry Potter has lived under the stairs at his aunt and uncle's house his whole life. But on his 11th birthday, he learns he's a powerful wizard -- with a place waiting for him at the Hogwarts School of Witchcraft and Wizardry. As he learns to harness his newfound powers with the help of the school's kindly headmaster, Harry uncovers the truth about his parents' deaths -- and about the villain who's to blame.\",\n",
              "   'popularity': 60.243,\n",
              "   'poster_path': '/wuMc08IPKEatf9rnMNXvIDxqP4W.jpg',\n",
              "   'release_date': '2001-11-16',\n",
              "   'title': \"Harry Potter and the Philosopher's Stone\",\n",
              "   'video': False,\n",
              "   'vote_average': 7.9,\n",
              "   'vote_count': 17035},\n",
              "  {'adult': False,\n",
              "   'backdrop_path': '/s3TBrRGB1iav7gFOCNx3H31MoES.jpg',\n",
              "   'genre_ids': [28, 12, 878],\n",
              "   'id': 27205,\n",
              "   'original_language': 'en',\n",
              "   'original_title': 'Inception',\n",
              "   'overview': 'Cobb, a skilled thief who commits corporate espionage by infiltrating the subconscious of his targets is offered a chance to regain his old life as payment for a task considered to be impossible: \"inception\", the implantation of another person\\'s idea into a target\\'s subconscious.',\n",
              "   'popularity': 63.222,\n",
              "   'poster_path': '/9gk7adHYeDvHkCSEqAvQNLV5Uge.jpg',\n",
              "   'release_date': '2010-07-15',\n",
              "   'title': 'Inception',\n",
              "   'video': False,\n",
              "   'vote_average': 8.3,\n",
              "   'vote_count': 25978},\n",
              "  {'adult': False,\n",
              "   'backdrop_path': '/xcUf6yIheo78btFqihlRLftdR3M.jpg',\n",
              "   'genre_ids': [12, 35, 14, 10751],\n",
              "   'id': 448119,\n",
              "   'original_language': 'en',\n",
              "   'original_title': 'Dolittle',\n",
              "   'overview': 'After losing his wife seven years earlier, the eccentric Dr. John Dolittle, famed doctor and veterinarian of Queen Victoria’s England, hermits himself away behind the high walls of Dolittle Manor with only his menagerie of exotic animals for company. But when the young queen falls gravely ill, a reluctant Dolittle is forced to set sail on an epic adventure to a mythical island in search of a cure, regaining his wit and courage as he crosses old adversaries and discovers wondrous creatures.',\n",
              "   'popularity': 49.46,\n",
              "   'poster_path': '/xnjvwfDulnOCy8qtYX0iqydmMhk.jpg',\n",
              "   'release_date': '2020-01-01',\n",
              "   'title': 'Dolittle',\n",
              "   'video': False,\n",
              "   'vote_average': 6.8,\n",
              "   'vote_count': 1658},\n",
              "  {'adult': False,\n",
              "   'backdrop_path': '/bVmSXNgH1gpHYTDyF9Q826YwJT5.jpg',\n",
              "   'genre_ids': [28, 12, 14],\n",
              "   'id': 122917,\n",
              "   'original_language': 'en',\n",
              "   'original_title': 'The Hobbit: The Battle of the Five Armies',\n",
              "   'overview': \"Immediately after the events of The Desolation of Smaug, Bilbo and the dwarves try to defend Erebor's mountain of treasure from others who claim it: the men of the ruined Laketown and the elves of Mirkwood. Meanwhile an army of Orcs led by Azog the Defiler is marching on Erebor, fueled by the rise of the dark lord Sauron. Dwarves, elves and men must unite, and the hope for Middle-Earth falls into Bilbo's hands.\",\n",
              "   'popularity': 50.869,\n",
              "   'poster_path': '/xT98tLqatZPQApyRmlPL12LtiWp.jpg',\n",
              "   'release_date': '2014-12-10',\n",
              "   'title': 'The Hobbit: The Battle of the Five Armies',\n",
              "   'video': False,\n",
              "   'vote_average': 7.3,\n",
              "   'vote_count': 9835},\n",
              "  {'adult': False,\n",
              "   'backdrop_path': '/pyxkLUfC5TG1pPoB4bwjCz8Z5iG.jpg',\n",
              "   'genre_ids': [28, 12, 14, 878],\n",
              "   'id': 141052,\n",
              "   'original_language': 'en',\n",
              "   'original_title': 'Justice League',\n",
              "   'overview': \"Fuelled by his restored faith in humanity and inspired by Superman's selfless act, Bruce Wayne and Diana Prince assemble a team of metahumans consisting of Barry Allen, Arthur Curry and Victor Stone to face the catastrophic threat of Steppenwolf and the Parademons who are on the hunt for three Mother Boxes on Earth.\",\n",
              "   'popularity': 49.454,\n",
              "   'poster_path': '/eifGNCSDuxJeS1loAXil5bIGgvC.jpg',\n",
              "   'release_date': '2017-11-15',\n",
              "   'title': 'Justice League',\n",
              "   'video': False,\n",
              "   'vote_average': 6.2,\n",
              "   'vote_count': 9100},\n",
              "  {'adult': False,\n",
              "   'backdrop_path': '/ww7eC3BqSbFsyE5H5qMde8WkxJ2.jpg',\n",
              "   'genre_ids': [28, 27, 878, 53],\n",
              "   'id': 443791,\n",
              "   'original_language': 'en',\n",
              "   'original_title': 'Underwater',\n",
              "   'overview': 'After an earthquake destroys their underwater station, six researchers must navigate two miles along the dangerous, unknown depths of the ocean floor to make it to safety in a race against time.',\n",
              "   'popularity': 53.011,\n",
              "   'poster_path': '/gzlbb3yeVISpQ3REd3Ga1scWGTU.jpg',\n",
              "   'release_date': '2020-01-08',\n",
              "   'title': 'Underwater',\n",
              "   'video': False,\n",
              "   'vote_average': 6.3,\n",
              "   'vote_count': 1221},\n",
              "  {'adult': False,\n",
              "   'backdrop_path': '/lVSMgZUBE4XTVaPBEBAczre4f1W.jpg',\n",
              "   'genre_ids': [14, 27, 9648, 878],\n",
              "   'id': 565743,\n",
              "   'original_language': 'en',\n",
              "   'original_title': 'The Vast of Night',\n",
              "   'overview': 'At the dawn of the space-race, two radio-obsessed teens discover a strange frequency over the airwaves in what becomes the most important night of their lives and in the history of their small town.',\n",
              "   'popularity': 48.763,\n",
              "   'poster_path': '/jrIZInArGH7RR7R4MgNJPlitdxA.jpg',\n",
              "   'release_date': '2020-05-15',\n",
              "   'title': 'The Vast of Night',\n",
              "   'video': False,\n",
              "   'vote_average': 6.6,\n",
              "   'vote_count': 36},\n",
              "  {'adult': False,\n",
              "   'backdrop_path': '/lTyikzfGgRX5ZqIfVeT26APYfRL.jpg',\n",
              "   'genre_ids': [35, 18, 10752],\n",
              "   'id': 515001,\n",
              "   'original_language': 'en',\n",
              "   'original_title': 'Jojo Rabbit',\n",
              "   'overview': 'A World War II satire that follows a lonely German boy whose world view is turned upside down when he discovers his single mother is hiding a young Jewish girl in their attic. Aided only by his idiotic imaginary friend, Adolf Hitler, Jojo must confront his blind nationalism.',\n",
              "   'popularity': 43.002,\n",
              "   'poster_path': '/7GsM4mtM0worCtIVeiQt28HieeN.jpg',\n",
              "   'release_date': '2019-10-18',\n",
              "   'title': 'Jojo Rabbit',\n",
              "   'video': False,\n",
              "   'vote_average': 8.1,\n",
              "   'vote_count': 3795},\n",
              "  {'adult': False,\n",
              "   'backdrop_path': '/5myQbDzw3l8K9yofUXRJ4UTVgam.jpg',\n",
              "   'genre_ids': [28, 12, 878],\n",
              "   'id': 429617,\n",
              "   'original_language': 'en',\n",
              "   'original_title': 'Spider-Man: Far from Home',\n",
              "   'overview': 'Peter Parker and his friends go on a summer trip to Europe. However, they will hardly be able to rest - Peter will have to agree to help Nick Fury uncover the mystery of creatures that cause natural disasters and destruction throughout the continent.',\n",
              "   'popularity': 53.752,\n",
              "   'poster_path': '/4q2NNj4S5dG2RLF9CpXsej7yXl.jpg',\n",
              "   'release_date': '2019-06-28',\n",
              "   'title': 'Spider-Man: Far from Home',\n",
              "   'video': False,\n",
              "   'vote_average': 7.5,\n",
              "   'vote_count': 7458},\n",
              "  {'adult': False,\n",
              "   'backdrop_path': '/nRXO2SnOA75OsWhNhXstHB8ZmI3.jpg',\n",
              "   'genre_ids': [12, 10751],\n",
              "   'id': 420818,\n",
              "   'original_language': 'en',\n",
              "   'original_title': 'The Lion King',\n",
              "   'overview': \"Simba idolizes his father, King Mufasa, and takes to heart his own royal destiny. But not everyone in the kingdom celebrates the new cub's arrival. Scar, Mufasa's brother—and former heir to the throne—has plans of his own. The battle for Pride Rock is ravaged with betrayal, tragedy and drama, ultimately resulting in Simba's exile. With help from a curious pair of newfound friends, Simba will have to figure out how to grow up and take back what is rightfully his.\",\n",
              "   'popularity': 49.142,\n",
              "   'poster_path': '/2bXbqYdUdNVa8VIWXVfclP2ICtT.jpg',\n",
              "   'release_date': '2019-07-12',\n",
              "   'title': 'The Lion King',\n",
              "   'video': False,\n",
              "   'vote_average': 7.2,\n",
              "   'vote_count': 5947},\n",
              "  {'adult': False,\n",
              "   'backdrop_path': '/vXUX7Qi4rtOh2TxqA1eB2CU6QAo.jpg',\n",
              "   'genre_ids': [28, 35, 80],\n",
              "   'id': 647785,\n",
              "   'original_language': 'en',\n",
              "   'original_title': 'Debt Collectors',\n",
              "   'overview': 'A pair of debt collectors are thrust into an explosively dangerous situation, chasing down various lowlifes while also evading a vengeful kingpin.',\n",
              "   'popularity': 56.897,\n",
              "   'poster_path': '/A8FWpw3WHUo9EvU1xMWZRjdRlN3.jpg',\n",
              "   'release_date': '2020-05-29',\n",
              "   'title': 'Debt Collectors',\n",
              "   'video': False,\n",
              "   'vote_average': 5.3,\n",
              "   'vote_count': 9},\n",
              "  {'adult': False,\n",
              "   'backdrop_path': '/AbRYlvwAKHs0YuyNO6NX9ofq4l6.jpg',\n",
              "   'genre_ids': [35, 80, 18, 9648, 53],\n",
              "   'id': 546554,\n",
              "   'original_language': 'en',\n",
              "   'original_title': 'Knives Out',\n",
              "   'overview': \"When renowned crime novelist Harlan Thrombey is found dead at his estate just after his 85th birthday, the inquisitive and debonair Detective Benoit Blanc is mysteriously enlisted to investigate. From Harlan's dysfunctional family to his devoted staff, Blanc sifts through a web of red herrings and self-serving lies to uncover the truth behind Harlan's untimely death.\",\n",
              "   'popularity': 46.785,\n",
              "   'poster_path': '/pThyQovXQrw2m0s9x82twj48Jq4.jpg',\n",
              "   'release_date': '2019-11-27',\n",
              "   'title': 'Knives Out',\n",
              "   'video': False,\n",
              "   'vote_average': 7.8,\n",
              "   'vote_count': 4191},\n",
              "  {'adult': False,\n",
              "   'backdrop_path': '/sQkRiQo3nLrQYMXZodDjNUJKHZV.jpg',\n",
              "   'genre_ids': [28, 12, 16, 14, 878],\n",
              "   'id': 618344,\n",
              "   'original_language': 'en',\n",
              "   'original_title': 'Justice League Dark: Apokolips War',\n",
              "   'overview': 'Earth is decimated after intergalactic tyrant Darkseid has devastated the Justice League in a poorly executed war by the DC Super Heroes. Now the remaining bastions of good – the Justice League, Teen Titans, Suicide Squad and assorted others – must regroup, strategize and take the war to Darkseid in order to save the planet and its surviving inhabitants.',\n",
              "   'popularity': 46.17,\n",
              "   'poster_path': '/c01Y4suApJ1Wic2xLmaq1QYcfoZ.jpg',\n",
              "   'release_date': '2020-05-05',\n",
              "   'title': 'Justice League Dark: Apokolips War',\n",
              "   'video': False,\n",
              "   'vote_average': 8.5,\n",
              "   'vote_count': 518}],\n",
              " 'total_pages': 500,\n",
              " 'total_results': 10000}"
            ]
          },
          "metadata": {
            "tags": []
          },
          "execution_count": 45
        }
      ]
    },
    {
      "cell_type": "code",
      "metadata": {
        "id": "fgBfznC0_vWB",
        "colab_type": "code",
        "outputId": "39a3b647-d35c-4d80-fc31-4974a1ffe222",
        "colab": {
          "base_uri": "https://localhost:8080/",
          "height": 644
        }
      },
      "source": [
        "popularity=[]\n",
        "title=[]\n",
        "original_language=[]\n",
        "release_date=[]\n",
        "vote_average=[]\n",
        "vote_count=[]\n",
        "\n",
        "for i in data['results']:\n",
        "  popularity.append(i['popularity'])\n",
        "  title.append(i['title'])\n",
        "  original_language.append(i['original_language'])\n",
        "  release_date.append(i['release_date'])\n",
        "  vote_average.append(i['vote_average'])\n",
        "  vote_count.append(i['vote_count'])\n",
        "\n",
        "d={'popularity':popularity, 'title':title, 'original_language':original_language, 'release_date':release_date, 'vote_average':vote_average, 'vote_count':vote_count}\n",
        "\n",
        "df=pd.DataFrame(d)\n",
        "df"
      ],
      "execution_count": 46,
      "outputs": [
        {
          "output_type": "execute_result",
          "data": {
            "text/html": [
              "<div>\n",
              "<style scoped>\n",
              "    .dataframe tbody tr th:only-of-type {\n",
              "        vertical-align: middle;\n",
              "    }\n",
              "\n",
              "    .dataframe tbody tr th {\n",
              "        vertical-align: top;\n",
              "    }\n",
              "\n",
              "    .dataframe thead th {\n",
              "        text-align: right;\n",
              "    }\n",
              "</style>\n",
              "<table border=\"1\" class=\"dataframe\">\n",
              "  <thead>\n",
              "    <tr style=\"text-align: right;\">\n",
              "      <th></th>\n",
              "      <th>popularity</th>\n",
              "      <th>title</th>\n",
              "      <th>original_language</th>\n",
              "      <th>release_date</th>\n",
              "      <th>vote_average</th>\n",
              "      <th>vote_count</th>\n",
              "    </tr>\n",
              "  </thead>\n",
              "  <tbody>\n",
              "    <tr>\n",
              "      <th>0</th>\n",
              "      <td>61.664</td>\n",
              "      <td>The Lovebirds</td>\n",
              "      <td>en</td>\n",
              "      <td>2020-05-22</td>\n",
              "      <td>6.4</td>\n",
              "      <td>182</td>\n",
              "    </tr>\n",
              "    <tr>\n",
              "      <th>1</th>\n",
              "      <td>62.784</td>\n",
              "      <td>Star Wars: The Rise of Skywalker</td>\n",
              "      <td>en</td>\n",
              "      <td>2019-12-18</td>\n",
              "      <td>6.5</td>\n",
              "      <td>4788</td>\n",
              "    </tr>\n",
              "    <tr>\n",
              "      <th>2</th>\n",
              "      <td>86.075</td>\n",
              "      <td>The Gentlemen</td>\n",
              "      <td>en</td>\n",
              "      <td>2020-01-01</td>\n",
              "      <td>7.7</td>\n",
              "      <td>1319</td>\n",
              "    </tr>\n",
              "    <tr>\n",
              "      <th>3</th>\n",
              "      <td>61.310</td>\n",
              "      <td>Frozen II</td>\n",
              "      <td>en</td>\n",
              "      <td>2019-11-20</td>\n",
              "      <td>7.2</td>\n",
              "      <td>4748</td>\n",
              "    </tr>\n",
              "    <tr>\n",
              "      <th>4</th>\n",
              "      <td>76.681</td>\n",
              "      <td>Onward</td>\n",
              "      <td>en</td>\n",
              "      <td>2020-02-29</td>\n",
              "      <td>7.9</td>\n",
              "      <td>2046</td>\n",
              "    </tr>\n",
              "    <tr>\n",
              "      <th>5</th>\n",
              "      <td>59.559</td>\n",
              "      <td>Interstellar</td>\n",
              "      <td>en</td>\n",
              "      <td>2014-11-05</td>\n",
              "      <td>8.3</td>\n",
              "      <td>22562</td>\n",
              "    </tr>\n",
              "    <tr>\n",
              "      <th>6</th>\n",
              "      <td>65.235</td>\n",
              "      <td>Avengers: Infinity War</td>\n",
              "      <td>en</td>\n",
              "      <td>2018-04-25</td>\n",
              "      <td>8.3</td>\n",
              "      <td>18351</td>\n",
              "    </tr>\n",
              "    <tr>\n",
              "      <th>7</th>\n",
              "      <td>60.243</td>\n",
              "      <td>Harry Potter and the Philosopher's Stone</td>\n",
              "      <td>en</td>\n",
              "      <td>2001-11-16</td>\n",
              "      <td>7.9</td>\n",
              "      <td>17035</td>\n",
              "    </tr>\n",
              "    <tr>\n",
              "      <th>8</th>\n",
              "      <td>63.222</td>\n",
              "      <td>Inception</td>\n",
              "      <td>en</td>\n",
              "      <td>2010-07-15</td>\n",
              "      <td>8.3</td>\n",
              "      <td>25978</td>\n",
              "    </tr>\n",
              "    <tr>\n",
              "      <th>9</th>\n",
              "      <td>49.460</td>\n",
              "      <td>Dolittle</td>\n",
              "      <td>en</td>\n",
              "      <td>2020-01-01</td>\n",
              "      <td>6.8</td>\n",
              "      <td>1658</td>\n",
              "    </tr>\n",
              "    <tr>\n",
              "      <th>10</th>\n",
              "      <td>50.869</td>\n",
              "      <td>The Hobbit: The Battle of the Five Armies</td>\n",
              "      <td>en</td>\n",
              "      <td>2014-12-10</td>\n",
              "      <td>7.3</td>\n",
              "      <td>9835</td>\n",
              "    </tr>\n",
              "    <tr>\n",
              "      <th>11</th>\n",
              "      <td>49.454</td>\n",
              "      <td>Justice League</td>\n",
              "      <td>en</td>\n",
              "      <td>2017-11-15</td>\n",
              "      <td>6.2</td>\n",
              "      <td>9100</td>\n",
              "    </tr>\n",
              "    <tr>\n",
              "      <th>12</th>\n",
              "      <td>53.011</td>\n",
              "      <td>Underwater</td>\n",
              "      <td>en</td>\n",
              "      <td>2020-01-08</td>\n",
              "      <td>6.3</td>\n",
              "      <td>1221</td>\n",
              "    </tr>\n",
              "    <tr>\n",
              "      <th>13</th>\n",
              "      <td>48.763</td>\n",
              "      <td>The Vast of Night</td>\n",
              "      <td>en</td>\n",
              "      <td>2020-05-15</td>\n",
              "      <td>6.6</td>\n",
              "      <td>36</td>\n",
              "    </tr>\n",
              "    <tr>\n",
              "      <th>14</th>\n",
              "      <td>43.002</td>\n",
              "      <td>Jojo Rabbit</td>\n",
              "      <td>en</td>\n",
              "      <td>2019-10-18</td>\n",
              "      <td>8.1</td>\n",
              "      <td>3795</td>\n",
              "    </tr>\n",
              "    <tr>\n",
              "      <th>15</th>\n",
              "      <td>53.752</td>\n",
              "      <td>Spider-Man: Far from Home</td>\n",
              "      <td>en</td>\n",
              "      <td>2019-06-28</td>\n",
              "      <td>7.5</td>\n",
              "      <td>7458</td>\n",
              "    </tr>\n",
              "    <tr>\n",
              "      <th>16</th>\n",
              "      <td>49.142</td>\n",
              "      <td>The Lion King</td>\n",
              "      <td>en</td>\n",
              "      <td>2019-07-12</td>\n",
              "      <td>7.2</td>\n",
              "      <td>5947</td>\n",
              "    </tr>\n",
              "    <tr>\n",
              "      <th>17</th>\n",
              "      <td>56.897</td>\n",
              "      <td>Debt Collectors</td>\n",
              "      <td>en</td>\n",
              "      <td>2020-05-29</td>\n",
              "      <td>5.3</td>\n",
              "      <td>9</td>\n",
              "    </tr>\n",
              "    <tr>\n",
              "      <th>18</th>\n",
              "      <td>46.785</td>\n",
              "      <td>Knives Out</td>\n",
              "      <td>en</td>\n",
              "      <td>2019-11-27</td>\n",
              "      <td>7.8</td>\n",
              "      <td>4191</td>\n",
              "    </tr>\n",
              "    <tr>\n",
              "      <th>19</th>\n",
              "      <td>46.170</td>\n",
              "      <td>Justice League Dark: Apokolips War</td>\n",
              "      <td>en</td>\n",
              "      <td>2020-05-05</td>\n",
              "      <td>8.5</td>\n",
              "      <td>518</td>\n",
              "    </tr>\n",
              "  </tbody>\n",
              "</table>\n",
              "</div>"
            ],
            "text/plain": [
              "    popularity  ... vote_count\n",
              "0       61.664  ...        182\n",
              "1       62.784  ...       4788\n",
              "2       86.075  ...       1319\n",
              "3       61.310  ...       4748\n",
              "4       76.681  ...       2046\n",
              "5       59.559  ...      22562\n",
              "6       65.235  ...      18351\n",
              "7       60.243  ...      17035\n",
              "8       63.222  ...      25978\n",
              "9       49.460  ...       1658\n",
              "10      50.869  ...       9835\n",
              "11      49.454  ...       9100\n",
              "12      53.011  ...       1221\n",
              "13      48.763  ...         36\n",
              "14      43.002  ...       3795\n",
              "15      53.752  ...       7458\n",
              "16      49.142  ...       5947\n",
              "17      56.897  ...          9\n",
              "18      46.785  ...       4191\n",
              "19      46.170  ...        518\n",
              "\n",
              "[20 rows x 6 columns]"
            ]
          },
          "metadata": {
            "tags": []
          },
          "execution_count": 46
        }
      ]
    },
    {
      "cell_type": "code",
      "metadata": {
        "id": "U66a4pSmPVQo",
        "colab_type": "code",
        "colab": {}
      },
      "source": [
        "df['comb']=str(df['popularity'])+''+str(df['title'])+''+str(df['original_language'])+''+str(df['release_date'])+''+str(df['vote_average'])+''+str(df['vote_count'])"
      ],
      "execution_count": 0,
      "outputs": []
    },
    {
      "cell_type": "code",
      "metadata": {
        "id": "FehrMGOwFNXD",
        "colab_type": "code",
        "colab": {
          "base_uri": "https://localhost:8080/",
          "height": 196
        },
        "outputId": "3a9c8411-5778-4c89-eb73-71e4462c8bc8"
      },
      "source": [
        "df.head(5)"
      ],
      "execution_count": 48,
      "outputs": [
        {
          "output_type": "execute_result",
          "data": {
            "text/html": [
              "<div>\n",
              "<style scoped>\n",
              "    .dataframe tbody tr th:only-of-type {\n",
              "        vertical-align: middle;\n",
              "    }\n",
              "\n",
              "    .dataframe tbody tr th {\n",
              "        vertical-align: top;\n",
              "    }\n",
              "\n",
              "    .dataframe thead th {\n",
              "        text-align: right;\n",
              "    }\n",
              "</style>\n",
              "<table border=\"1\" class=\"dataframe\">\n",
              "  <thead>\n",
              "    <tr style=\"text-align: right;\">\n",
              "      <th></th>\n",
              "      <th>popularity</th>\n",
              "      <th>title</th>\n",
              "      <th>original_language</th>\n",
              "      <th>release_date</th>\n",
              "      <th>vote_average</th>\n",
              "      <th>vote_count</th>\n",
              "      <th>comb</th>\n",
              "    </tr>\n",
              "  </thead>\n",
              "  <tbody>\n",
              "    <tr>\n",
              "      <th>0</th>\n",
              "      <td>61.664</td>\n",
              "      <td>The Lovebirds</td>\n",
              "      <td>en</td>\n",
              "      <td>2020-05-22</td>\n",
              "      <td>6.4</td>\n",
              "      <td>182</td>\n",
              "      <td>0     61.664\\n1     62.784\\n2     86.075\\n3   ...</td>\n",
              "    </tr>\n",
              "    <tr>\n",
              "      <th>1</th>\n",
              "      <td>62.784</td>\n",
              "      <td>Star Wars: The Rise of Skywalker</td>\n",
              "      <td>en</td>\n",
              "      <td>2019-12-18</td>\n",
              "      <td>6.5</td>\n",
              "      <td>4788</td>\n",
              "      <td>0     61.664\\n1     62.784\\n2     86.075\\n3   ...</td>\n",
              "    </tr>\n",
              "    <tr>\n",
              "      <th>2</th>\n",
              "      <td>86.075</td>\n",
              "      <td>The Gentlemen</td>\n",
              "      <td>en</td>\n",
              "      <td>2020-01-01</td>\n",
              "      <td>7.7</td>\n",
              "      <td>1319</td>\n",
              "      <td>0     61.664\\n1     62.784\\n2     86.075\\n3   ...</td>\n",
              "    </tr>\n",
              "    <tr>\n",
              "      <th>3</th>\n",
              "      <td>61.310</td>\n",
              "      <td>Frozen II</td>\n",
              "      <td>en</td>\n",
              "      <td>2019-11-20</td>\n",
              "      <td>7.2</td>\n",
              "      <td>4748</td>\n",
              "      <td>0     61.664\\n1     62.784\\n2     86.075\\n3   ...</td>\n",
              "    </tr>\n",
              "    <tr>\n",
              "      <th>4</th>\n",
              "      <td>76.681</td>\n",
              "      <td>Onward</td>\n",
              "      <td>en</td>\n",
              "      <td>2020-02-29</td>\n",
              "      <td>7.9</td>\n",
              "      <td>2046</td>\n",
              "      <td>0     61.664\\n1     62.784\\n2     86.075\\n3   ...</td>\n",
              "    </tr>\n",
              "  </tbody>\n",
              "</table>\n",
              "</div>"
            ],
            "text/plain": [
              "   popularity  ...                                               comb\n",
              "0      61.664  ...  0     61.664\\n1     62.784\\n2     86.075\\n3   ...\n",
              "1      62.784  ...  0     61.664\\n1     62.784\\n2     86.075\\n3   ...\n",
              "2      86.075  ...  0     61.664\\n1     62.784\\n2     86.075\\n3   ...\n",
              "3      61.310  ...  0     61.664\\n1     62.784\\n2     86.075\\n3   ...\n",
              "4      76.681  ...  0     61.664\\n1     62.784\\n2     86.075\\n3   ...\n",
              "\n",
              "[5 rows x 7 columns]"
            ]
          },
          "metadata": {
            "tags": []
          },
          "execution_count": 48
        }
      ]
    },
    {
      "cell_type": "code",
      "metadata": {
        "id": "S-iRapgOPnjw",
        "colab_type": "code",
        "colab": {}
      },
      "source": [
        "from sklearn.feature_extraction.text import CountVectorizer\n",
        "from sklearn.metrics.pairwise import cosine_similarity"
      ],
      "execution_count": 0,
      "outputs": []
    },
    {
      "cell_type": "code",
      "metadata": {
        "id": "oy54Yb4LQNeF",
        "colab_type": "code",
        "colab": {}
      },
      "source": [
        "count_vect=CountVectorizer()"
      ],
      "execution_count": 0,
      "outputs": []
    },
    {
      "cell_type": "code",
      "metadata": {
        "id": "sQvU2SPtQRHG",
        "colab_type": "code",
        "colab": {
          "base_uri": "https://localhost:8080/",
          "height": 50
        },
        "outputId": "ac657a42-fc34-46a3-a7f7-c89fad39a0a9"
      },
      "source": [
        "count_matrix=count_vect.fit_transform(df['comb'])\n",
        "count_matrix"
      ],
      "execution_count": 51,
      "outputs": [
        {
          "output_type": "execute_result",
          "data": {
            "text/plain": [
              "<20x142 sparse matrix of type '<class 'numpy.int64'>'\n",
              "\twith 2840 stored elements in Compressed Sparse Row format>"
            ]
          },
          "metadata": {
            "tags": []
          },
          "execution_count": 51
        }
      ]
    },
    {
      "cell_type": "code",
      "metadata": {
        "id": "kd4TDx0jQa7A",
        "colab_type": "code",
        "colab": {}
      },
      "source": [
        "similar=cosine_similarity(count_matrix)"
      ],
      "execution_count": 0,
      "outputs": []
    },
    {
      "cell_type": "code",
      "metadata": {
        "id": "jqneJ3R0QiaL",
        "colab_type": "code",
        "colab": {
          "base_uri": "https://localhost:8080/",
          "height": 686
        },
        "outputId": "6d286409-baee-4f55-fe79-41aac343f2dd"
      },
      "source": [
        "similar"
      ],
      "execution_count": 53,
      "outputs": [
        {
          "output_type": "execute_result",
          "data": {
            "text/plain": [
              "array([[1., 1., 1., 1., 1., 1., 1., 1., 1., 1., 1., 1., 1., 1., 1., 1.,\n",
              "        1., 1., 1., 1.],\n",
              "       [1., 1., 1., 1., 1., 1., 1., 1., 1., 1., 1., 1., 1., 1., 1., 1.,\n",
              "        1., 1., 1., 1.],\n",
              "       [1., 1., 1., 1., 1., 1., 1., 1., 1., 1., 1., 1., 1., 1., 1., 1.,\n",
              "        1., 1., 1., 1.],\n",
              "       [1., 1., 1., 1., 1., 1., 1., 1., 1., 1., 1., 1., 1., 1., 1., 1.,\n",
              "        1., 1., 1., 1.],\n",
              "       [1., 1., 1., 1., 1., 1., 1., 1., 1., 1., 1., 1., 1., 1., 1., 1.,\n",
              "        1., 1., 1., 1.],\n",
              "       [1., 1., 1., 1., 1., 1., 1., 1., 1., 1., 1., 1., 1., 1., 1., 1.,\n",
              "        1., 1., 1., 1.],\n",
              "       [1., 1., 1., 1., 1., 1., 1., 1., 1., 1., 1., 1., 1., 1., 1., 1.,\n",
              "        1., 1., 1., 1.],\n",
              "       [1., 1., 1., 1., 1., 1., 1., 1., 1., 1., 1., 1., 1., 1., 1., 1.,\n",
              "        1., 1., 1., 1.],\n",
              "       [1., 1., 1., 1., 1., 1., 1., 1., 1., 1., 1., 1., 1., 1., 1., 1.,\n",
              "        1., 1., 1., 1.],\n",
              "       [1., 1., 1., 1., 1., 1., 1., 1., 1., 1., 1., 1., 1., 1., 1., 1.,\n",
              "        1., 1., 1., 1.],\n",
              "       [1., 1., 1., 1., 1., 1., 1., 1., 1., 1., 1., 1., 1., 1., 1., 1.,\n",
              "        1., 1., 1., 1.],\n",
              "       [1., 1., 1., 1., 1., 1., 1., 1., 1., 1., 1., 1., 1., 1., 1., 1.,\n",
              "        1., 1., 1., 1.],\n",
              "       [1., 1., 1., 1., 1., 1., 1., 1., 1., 1., 1., 1., 1., 1., 1., 1.,\n",
              "        1., 1., 1., 1.],\n",
              "       [1., 1., 1., 1., 1., 1., 1., 1., 1., 1., 1., 1., 1., 1., 1., 1.,\n",
              "        1., 1., 1., 1.],\n",
              "       [1., 1., 1., 1., 1., 1., 1., 1., 1., 1., 1., 1., 1., 1., 1., 1.,\n",
              "        1., 1., 1., 1.],\n",
              "       [1., 1., 1., 1., 1., 1., 1., 1., 1., 1., 1., 1., 1., 1., 1., 1.,\n",
              "        1., 1., 1., 1.],\n",
              "       [1., 1., 1., 1., 1., 1., 1., 1., 1., 1., 1., 1., 1., 1., 1., 1.,\n",
              "        1., 1., 1., 1.],\n",
              "       [1., 1., 1., 1., 1., 1., 1., 1., 1., 1., 1., 1., 1., 1., 1., 1.,\n",
              "        1., 1., 1., 1.],\n",
              "       [1., 1., 1., 1., 1., 1., 1., 1., 1., 1., 1., 1., 1., 1., 1., 1.,\n",
              "        1., 1., 1., 1.],\n",
              "       [1., 1., 1., 1., 1., 1., 1., 1., 1., 1., 1., 1., 1., 1., 1., 1.,\n",
              "        1., 1., 1., 1.]])"
            ]
          },
          "metadata": {
            "tags": []
          },
          "execution_count": 53
        }
      ]
    },
    {
      "cell_type": "code",
      "metadata": {
        "id": "taubu5iTQnZN",
        "colab_type": "code",
        "colab": {}
      },
      "source": [
        "movie_index=df.loc[df['title']=='The Gentlemen'].index[0]"
      ],
      "execution_count": 0,
      "outputs": []
    },
    {
      "cell_type": "code",
      "metadata": {
        "id": "f--2HWfVRers",
        "colab_type": "code",
        "colab": {}
      },
      "source": [
        "let=list(enumerate(similar[movie_index]))"
      ],
      "execution_count": 0,
      "outputs": []
    },
    {
      "cell_type": "code",
      "metadata": {
        "id": "Us9kBnXXRpsD",
        "colab_type": "code",
        "colab": {
          "base_uri": "https://localhost:8080/",
          "height": 351
        },
        "outputId": "6868f4b0-4afe-44c5-e20d-c473fc4d08ea"
      },
      "source": [
        "let"
      ],
      "execution_count": 56,
      "outputs": [
        {
          "output_type": "execute_result",
          "data": {
            "text/plain": [
              "[(0, 0.9999999999999952),\n",
              " (1, 0.9999999999999952),\n",
              " (2, 0.9999999999999952),\n",
              " (3, 0.9999999999999952),\n",
              " (4, 0.9999999999999952),\n",
              " (5, 0.9999999999999952),\n",
              " (6, 0.9999999999999952),\n",
              " (7, 0.9999999999999952),\n",
              " (8, 0.9999999999999952),\n",
              " (9, 0.9999999999999952),\n",
              " (10, 0.9999999999999952),\n",
              " (11, 0.9999999999999952),\n",
              " (12, 0.9999999999999952),\n",
              " (13, 0.9999999999999952),\n",
              " (14, 0.9999999999999952),\n",
              " (15, 0.9999999999999952),\n",
              " (16, 0.9999999999999952),\n",
              " (17, 0.9999999999999952),\n",
              " (18, 0.9999999999999952),\n",
              " (19, 0.9999999999999952)]"
            ]
          },
          "metadata": {
            "tags": []
          },
          "execution_count": 56
        }
      ]
    },
    {
      "cell_type": "code",
      "metadata": {
        "id": "en5foQb6Rr0C",
        "colab_type": "code",
        "colab": {}
      },
      "source": [
        "lst=sorted(let,key=lambda x:x[1],reverse=True)"
      ],
      "execution_count": 0,
      "outputs": []
    },
    {
      "cell_type": "code",
      "metadata": {
        "id": "I0UJh0GLSB9H",
        "colab_type": "code",
        "colab": {
          "base_uri": "https://localhost:8080/",
          "height": 33
        },
        "outputId": "9209dbe2-fa4c-466d-aa59-8c17704dc3b2"
      },
      "source": [
        "len(lst[1:11])"
      ],
      "execution_count": 58,
      "outputs": [
        {
          "output_type": "execute_result",
          "data": {
            "text/plain": [
              "10"
            ]
          },
          "metadata": {
            "tags": []
          },
          "execution_count": 58
        }
      ]
    },
    {
      "cell_type": "code",
      "metadata": {
        "id": "MMtLs4I5SH4W",
        "colab_type": "code",
        "colab": {
          "base_uri": "https://localhost:8080/",
          "height": 201
        },
        "outputId": "d8b2997b-4ed3-4151-cdae-e568f4dd58d5"
      },
      "source": [
        "lst[1:12]"
      ],
      "execution_count": 59,
      "outputs": [
        {
          "output_type": "execute_result",
          "data": {
            "text/plain": [
              "[(1, 0.9999999999999952),\n",
              " (2, 0.9999999999999952),\n",
              " (3, 0.9999999999999952),\n",
              " (4, 0.9999999999999952),\n",
              " (5, 0.9999999999999952),\n",
              " (6, 0.9999999999999952),\n",
              " (7, 0.9999999999999952),\n",
              " (8, 0.9999999999999952),\n",
              " (9, 0.9999999999999952),\n",
              " (10, 0.9999999999999952),\n",
              " (11, 0.9999999999999952)]"
            ]
          },
          "metadata": {
            "tags": []
          },
          "execution_count": 59
        }
      ]
    },
    {
      "cell_type": "code",
      "metadata": {
        "id": "_Vqkm-79STRd",
        "colab_type": "code",
        "colab": {}
      },
      "source": [
        "top_10=lst[1:10]"
      ],
      "execution_count": 0,
      "outputs": []
    },
    {
      "cell_type": "code",
      "metadata": {
        "id": "usgWonM5SYKG",
        "colab_type": "code",
        "colab": {}
      },
      "source": [
        "movies=[]\n",
        "for i in range(len(top_10)):\n",
        "  a=top_10[i][0]\n",
        "  movies.append(df['title'][a])"
      ],
      "execution_count": 0,
      "outputs": []
    },
    {
      "cell_type": "code",
      "metadata": {
        "id": "JgbrolF4S6W_",
        "colab_type": "code",
        "colab": {
          "base_uri": "https://localhost:8080/",
          "height": 167
        },
        "outputId": "816d7243-df51-41e2-827a-785c3639bfe3"
      },
      "source": [
        "movies"
      ],
      "execution_count": 62,
      "outputs": [
        {
          "output_type": "execute_result",
          "data": {
            "text/plain": [
              "['Star Wars: The Rise of Skywalker',\n",
              " 'The Gentlemen',\n",
              " 'Frozen II',\n",
              " 'Onward',\n",
              " 'Interstellar',\n",
              " 'Avengers: Infinity War',\n",
              " \"Harry Potter and the Philosopher's Stone\",\n",
              " 'Inception',\n",
              " 'Dolittle']"
            ]
          },
          "metadata": {
            "tags": []
          },
          "execution_count": 62
        }
      ]
    },
    {
      "cell_type": "code",
      "metadata": {
        "id": "KnTHXpJVTKuJ",
        "colab_type": "code",
        "colab": {
          "base_uri": "https://localhost:8080/",
          "height": 33
        },
        "outputId": "7e72a3b6-2763-42a0-8fb8-65131b1fc510"
      },
      "source": [
        "len(movies)"
      ],
      "execution_count": 63,
      "outputs": [
        {
          "output_type": "execute_result",
          "data": {
            "text/plain": [
              "9"
            ]
          },
          "metadata": {
            "tags": []
          },
          "execution_count": 63
        }
      ]
    },
    {
      "cell_type": "code",
      "metadata": {
        "id": "iSFqPFWwTYKe",
        "colab_type": "code",
        "colab": {}
      },
      "source": [
        "def top_recommendation(movie):\n",
        "  movie_index=df.loc[df['title']==movie].index[0]\n",
        "  lst=list(enumerate(similar[movie_index]))\n",
        "  lst=sorted(lst,key=lambda x:x[1],reverse=True)\n",
        "  top_10=lst[1:11]\n",
        "  l=[]\n",
        "  for i in range(len(top_10)):\n",
        "    a=top_10[i][0]\n",
        "    l.append(df['title'][a])\n",
        "    return l"
      ],
      "execution_count": 0,
      "outputs": []
    },
    {
      "cell_type": "code",
      "metadata": {
        "id": "Xadvffu0Uea5",
        "colab_type": "code",
        "colab": {
          "base_uri": "https://localhost:8080/",
          "height": 33
        },
        "outputId": "84e57d92-09b9-47cd-b210-6a27ed49be15"
      },
      "source": [
        "print(top_recommendation(movie='Frozen II'))"
      ],
      "execution_count": 65,
      "outputs": [
        {
          "output_type": "stream",
          "text": [
            "['Star Wars: The Rise of Skywalker']\n"
          ],
          "name": "stdout"
        }
      ]
    }
  ]
}